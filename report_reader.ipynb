{
 "cells": [
  {
   "cell_type": "markdown",
   "metadata": {},
   "source": [
    "# Create script to extract weekly Grippeindex from PDF reports and store it in one file"
   ]
  },
  {
   "cell_type": "code",
   "execution_count": 66,
   "metadata": {},
   "outputs": [],
   "source": [
    "import camelot\n",
    "import os\n",
    "import pandas as pd\n",
    "import numpy as np\n",
    "import matplotlib.pyplot as plt"
   ]
  },
  {
   "cell_type": "code",
   "execution_count": 2,
   "metadata": {},
   "outputs": [],
   "source": [
    "#save names of all pdf files to the reportlist\n",
    "reportlist = [report for report in os.listdir('reports') if report[-4:] == '.pdf']\n",
    "reportlist.sort()"
   ]
  },
  {
   "cell_type": "code",
   "execution_count": 3,
   "metadata": {},
   "outputs": [
    {
     "name": "stderr",
     "output_type": "stream",
     "text": [
      "UserWarning: No tables found in table area 1 [stream.py:360]\n",
      "UserWarning: No tables found in table area 1 [stream.py:360]\n"
     ]
    },
    {
     "name": "stdout",
     "output_type": "stream",
     "text": [
      "Reports collected\n"
     ]
    }
   ],
   "source": [
    "#create Dataframe for Grippeindex that contains the list of states\n",
    "grippe_index = pd.DataFrame(['Süden', 'Baden-Württemberg', 'Bayern', 'Mitte (West)', 'Hessen',\n",
    "       'Nordrhein-Westfalen', 'Rheinland-Pfalz, Saarland',\n",
    "       'Norden (West)', 'Niedersachsen, Bremen',\n",
    "       'Schleswig-Holstein, Hamburg', 'Osten', 'Brandenburg, Berlin',\n",
    "       'Mecklenburg-Vorpommern', 'Sachsen', 'Sachsen-Anhalt', 'Thüringen','Gesamt'], columns = ['AGI-(Groß-)Region']) \n",
    "\n",
    "for report in reportlist:\n",
    "    path = 'reports/' + report\n",
    "    year = report[:4]\n",
    "    tables = camelot.read_pdf(path, flavor='stream',pages='1,2,3,4,5,6')\n",
    "    df = pd.DataFrame()\n",
    "    \n",
    "    #only extract table with Praxisindex for each State\n",
    "    for i in range(tables.n - 1):\n",
    "        test_df = tables[i].df\n",
    "        if 'AGI-(Groß-)Region' in str(test_df[0]):\n",
    "            df = test_df\n",
    "            break\n",
    "    \n",
    "    #manipulate df so that it only contains the relevant information and has the right header\n",
    "    df = df[df.index[df[0] == 'AGI-(Groß-)Region'].tolist()[0] : df.index[df[0] == 'Gesamt'].tolist()[0] + 1]\n",
    "    df  = pd.DataFrame(df.values[1:], columns=df.iloc[0])\n",
    "    \n",
    "    \n",
    "    for col in df.columns.drop('AGI-(Groß-)Region'):\n",
    "        #change column names to datetime format\n",
    "        new_col = str(report[:4]+col[:2])\n",
    "        df.rename(columns={col: str(new_col)},inplace=True)\n",
    "        \n",
    "        #update grippe index dataframe\n",
    "        grippe_index.loc[:,new_col] = df[new_col]\n",
    "\n",
    "print('Reports collected')"
   ]
  },
  {
   "cell_type": "code",
   "execution_count": 54,
   "metadata": {},
   "outputs": [],
   "source": [
    "test = grippe_index.melt(id_vars = 'AGI-(Groß-)Region', var_name ='week',value_name='index')\n",
    "test['year'] = [w[:4] for w in test['week']]\n",
    "test['week'] = [w[4:] for w in test['week']]\n",
    "test['AGI-(Groß-)Region'] = [reg.replace(',','_').replace(' ','_').replace('-','') for reg in test['AGI-(Groß-)Region']]"
   ]
  },
  {
   "cell_type": "code",
   "execution_count": 55,
   "metadata": {},
   "outputs": [],
   "source": [
    "date_df = pd.DataFrame(index=pd.date_range(pd.to_datetime('1/1/2015'),pd.to_datetime('1/7/2020')))"
   ]
  },
  {
   "cell_type": "code",
   "execution_count": 56,
   "metadata": {},
   "outputs": [],
   "source": [
    "date_df['week'] = date_df.index.weekofyear\n",
    "date_df['year'] = date_df.index.year"
   ]
  }
 ],
 "metadata": {
  "kernelspec": {
   "display_name": "Python 3",
   "language": "python",
   "name": "python3"
  },
  "language_info": {
   "codemirror_mode": {
    "name": "ipython",
    "version": 3
   },
   "file_extension": ".py",
   "mimetype": "text/x-python",
   "name": "python",
   "nbconvert_exporter": "python",
   "pygments_lexer": "ipython3",
   "version": "3.6.6"
  },
  "toc": {
   "base_numbering": 1,
   "nav_menu": {},
   "number_sections": true,
   "sideBar": true,
   "skip_h1_title": false,
   "title_cell": "Table of Contents",
   "title_sidebar": "Contents",
   "toc_cell": false,
   "toc_position": {},
   "toc_section_display": true,
   "toc_window_display": false
  }
 },
 "nbformat": 4,
 "nbformat_minor": 4
}
